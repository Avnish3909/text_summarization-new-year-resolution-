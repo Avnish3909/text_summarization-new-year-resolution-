{
  "nbformat": 4,
  "nbformat_minor": 0,
  "metadata": {
    "colab": {
      "provenance": [],
      "authorship_tag": "ABX9TyN0sA940LaA9HOMXT91h27c",
      "include_colab_link": true
    },
    "kernelspec": {
      "name": "python3",
      "display_name": "Python 3"
    },
    "language_info": {
      "name": "python"
    }
  },
  "cells": [
    {
      "cell_type": "markdown",
      "metadata": {
        "id": "view-in-github",
        "colab_type": "text"
      },
      "source": [
        "<a href=\"https://colab.research.google.com/github/Avnish3909/text_summarization-new-year-resolution-/blob/main/Text_Summarisation_custom.ipynb\" target=\"_parent\"><img src=\"https://colab.research.google.com/assets/colab-badge.svg\" alt=\"Open In Colab\"/></a>"
      ]
    },
    {
      "cell_type": "code",
      "execution_count": 45,
      "metadata": {
        "colab": {
          "base_uri": "https://localhost:8080/"
        },
        "id": "8dm08N1S_Pc3",
        "outputId": "12bea786-c9e3-4dfd-bc6a-bfcbc07b2729"
      },
      "outputs": [
        {
          "output_type": "stream",
          "name": "stdout",
          "text": [
            "--2023-11-16 11:07:21--  https://www.dropbox.com/s/bkzr8khi295ysqe/New-years-resolutions-DFE.csv\n",
            "Resolving www.dropbox.com (www.dropbox.com)... 162.125.4.18, 2620:100:6057:18::a27d:d12\n",
            "Connecting to www.dropbox.com (www.dropbox.com)|162.125.4.18|:443... connected.\n",
            "HTTP request sent, awaiting response... 302 Found\n",
            "Location: /s/raw/bkzr8khi295ysqe/New-years-resolutions-DFE.csv [following]\n",
            "--2023-11-16 11:07:22--  https://www.dropbox.com/s/raw/bkzr8khi295ysqe/New-years-resolutions-DFE.csv\n",
            "Reusing existing connection to www.dropbox.com:443.\n",
            "HTTP request sent, awaiting response... 302 Found\n",
            "Location: https://ucd584634940247c99d1d2fc4f34.dl.dropboxusercontent.com/cd/0/inline/CHpUU6ygxEszjoRZyzdlDwhXGkdsWm8acE4mhOJtV8kzUrqMTSOBA1PLpMEVNLzHAt_-vK1pMdaf5TW1Y633UHcR_bFJiZ4yF55FFhEvc9Ov5Z2d3ln7f7OkhA6MhU2_Bgig9S3wx7PX1LDnrfzKECCG/file# [following]\n",
            "--2023-11-16 11:07:22--  https://ucd584634940247c99d1d2fc4f34.dl.dropboxusercontent.com/cd/0/inline/CHpUU6ygxEszjoRZyzdlDwhXGkdsWm8acE4mhOJtV8kzUrqMTSOBA1PLpMEVNLzHAt_-vK1pMdaf5TW1Y633UHcR_bFJiZ4yF55FFhEvc9Ov5Z2d3ln7f7OkhA6MhU2_Bgig9S3wx7PX1LDnrfzKECCG/file\n",
            "Resolving ucd584634940247c99d1d2fc4f34.dl.dropboxusercontent.com (ucd584634940247c99d1d2fc4f34.dl.dropboxusercontent.com)... 162.125.13.15, 2620:100:6057:15::a27d:d0f\n",
            "Connecting to ucd584634940247c99d1d2fc4f34.dl.dropboxusercontent.com (ucd584634940247c99d1d2fc4f34.dl.dropboxusercontent.com)|162.125.13.15|:443... connected.\n",
            "HTTP request sent, awaiting response... 200 OK\n",
            "Length: 888875 (868K) [text/plain]\n",
            "Saving to: ‘New-years-resolutions-DFE.csv.2’\n",
            "\n",
            "New-years-resolutio 100%[===================>] 868.04K  --.-KB/s    in 0.1s    \n",
            "\n",
            "2023-11-16 11:07:23 (7.75 MB/s) - ‘New-years-resolutions-DFE.csv.2’ saved [888875/888875]\n",
            "\n"
          ]
        }
      ],
      "source": [
        "!wget https://www.dropbox.com/s/bkzr8khi295ysqe/New-years-resolutions-DFE.csv"
      ]
    },
    {
      "cell_type": "code",
      "source": [
        "import nltk\n",
        "nltk.download(\"stopwords\")\n",
        "nltk.download(\"punkt\")"
      ],
      "metadata": {
        "colab": {
          "base_uri": "https://localhost:8080/"
        },
        "id": "yb_uQl3KCSFo",
        "outputId": "d45e127b-b058-4529-d2d3-71f525341cde"
      },
      "execution_count": 46,
      "outputs": [
        {
          "output_type": "stream",
          "name": "stderr",
          "text": [
            "[nltk_data] Downloading package stopwords to /root/nltk_data...\n",
            "[nltk_data]   Package stopwords is already up-to-date!\n",
            "[nltk_data] Downloading package punkt to /root/nltk_data...\n",
            "[nltk_data]   Package punkt is already up-to-date!\n"
          ]
        },
        {
          "output_type": "execute_result",
          "data": {
            "text/plain": [
              "True"
            ]
          },
          "metadata": {},
          "execution_count": 46
        }
      ]
    },
    {
      "cell_type": "code",
      "source": [
        "import pandas as pd\n",
        "from nltk.corpus import stopwords\n",
        "from nltk.stem import PorterStemmer\n",
        "from nltk.tokenize import word_tokenize, sent_tokenize\n",
        "\n",
        "df=pd.read_csv(\"New-years-resolutions-DFE.csv\", encoding=\"unicode_escape\")"
      ],
      "metadata": {
        "id": "FurCToekCgyl"
      },
      "execution_count": 47,
      "outputs": []
    },
    {
      "cell_type": "code",
      "source": [
        "df.head()"
      ],
      "metadata": {
        "colab": {
          "base_uri": "https://localhost:8080/",
          "height": 417
        },
        "id": "J_bNUxCjDeT-",
        "outputId": "f3b88534-2a74-4d05-ef14-76a5386fa645"
      },
      "execution_count": 48,
      "outputs": [
        {
          "output_type": "execute_result",
          "data": {
            "text/plain": [
              "                                   resolution_topics  gender             name  \\\n",
              "0                                      Eat healthier  female      Dena_Marina   \n",
              "1  Humor about Personal Growth and Interests Reso...  female     ninjagirl325   \n",
              "2                                  Be More Confident    male     RickyDelReyy   \n",
              "3                                              Other    male        CalmareNJ   \n",
              "4                                   Be more positive  female  welovatoyoudemi   \n",
              "\n",
              "  Resolution_Category  retweet_count  \\\n",
              "0    Health & Fitness            0.0   \n",
              "1               Humor            1.0   \n",
              "2     Personal Growth            0.0   \n",
              "3       Philanthropic            0.0   \n",
              "4     Personal Growth            0.0   \n",
              "\n",
              "                                                text      tweet_id  \\\n",
              "0  #NewYearsResolution :: Read more books, No scr...  5.500000e+17   \n",
              "1  #NewYearsResolution Finally master @ZJ10 's pa...  5.500000e+17   \n",
              "2  #NewYearsResolution to stop being so damn perf...  5.500000e+17   \n",
              "3  My #NewYearsResolution is to help my disabled ...  5.500000e+17   \n",
              "4  #NewYearsResolution #2015Goals #2015bucketlist...  5.500000e+17   \n",
              "\n",
              "              tweet_location  \n",
              "0        Southern California  \n",
              "1                 New Jersey  \n",
              "2                  Hollywood  \n",
              "3                  Metro NYC  \n",
              "4  Pittsburgh, Pennsylvania   "
            ],
            "text/html": [
              "\n",
              "  <div id=\"df-9c237368-aca8-4cbd-9fe7-3ea934564f74\" class=\"colab-df-container\">\n",
              "    <div>\n",
              "<style scoped>\n",
              "    .dataframe tbody tr th:only-of-type {\n",
              "        vertical-align: middle;\n",
              "    }\n",
              "\n",
              "    .dataframe tbody tr th {\n",
              "        vertical-align: top;\n",
              "    }\n",
              "\n",
              "    .dataframe thead th {\n",
              "        text-align: right;\n",
              "    }\n",
              "</style>\n",
              "<table border=\"1\" class=\"dataframe\">\n",
              "  <thead>\n",
              "    <tr style=\"text-align: right;\">\n",
              "      <th></th>\n",
              "      <th>resolution_topics</th>\n",
              "      <th>gender</th>\n",
              "      <th>name</th>\n",
              "      <th>Resolution_Category</th>\n",
              "      <th>retweet_count</th>\n",
              "      <th>text</th>\n",
              "      <th>tweet_id</th>\n",
              "      <th>tweet_location</th>\n",
              "    </tr>\n",
              "  </thead>\n",
              "  <tbody>\n",
              "    <tr>\n",
              "      <th>0</th>\n",
              "      <td>Eat healthier</td>\n",
              "      <td>female</td>\n",
              "      <td>Dena_Marina</td>\n",
              "      <td>Health &amp; Fitness</td>\n",
              "      <td>0.0</td>\n",
              "      <td>#NewYearsResolution :: Read more books, No scr...</td>\n",
              "      <td>5.500000e+17</td>\n",
              "      <td>Southern California</td>\n",
              "    </tr>\n",
              "    <tr>\n",
              "      <th>1</th>\n",
              "      <td>Humor about Personal Growth and Interests Reso...</td>\n",
              "      <td>female</td>\n",
              "      <td>ninjagirl325</td>\n",
              "      <td>Humor</td>\n",
              "      <td>1.0</td>\n",
              "      <td>#NewYearsResolution Finally master @ZJ10 's pa...</td>\n",
              "      <td>5.500000e+17</td>\n",
              "      <td>New Jersey</td>\n",
              "    </tr>\n",
              "    <tr>\n",
              "      <th>2</th>\n",
              "      <td>Be More Confident</td>\n",
              "      <td>male</td>\n",
              "      <td>RickyDelReyy</td>\n",
              "      <td>Personal Growth</td>\n",
              "      <td>0.0</td>\n",
              "      <td>#NewYearsResolution to stop being so damn perf...</td>\n",
              "      <td>5.500000e+17</td>\n",
              "      <td>Hollywood</td>\n",
              "    </tr>\n",
              "    <tr>\n",
              "      <th>3</th>\n",
              "      <td>Other</td>\n",
              "      <td>male</td>\n",
              "      <td>CalmareNJ</td>\n",
              "      <td>Philanthropic</td>\n",
              "      <td>0.0</td>\n",
              "      <td>My #NewYearsResolution is to help my disabled ...</td>\n",
              "      <td>5.500000e+17</td>\n",
              "      <td>Metro NYC</td>\n",
              "    </tr>\n",
              "    <tr>\n",
              "      <th>4</th>\n",
              "      <td>Be more positive</td>\n",
              "      <td>female</td>\n",
              "      <td>welovatoyoudemi</td>\n",
              "      <td>Personal Growth</td>\n",
              "      <td>0.0</td>\n",
              "      <td>#NewYearsResolution #2015Goals #2015bucketlist...</td>\n",
              "      <td>5.500000e+17</td>\n",
              "      <td>Pittsburgh, Pennsylvania</td>\n",
              "    </tr>\n",
              "  </tbody>\n",
              "</table>\n",
              "</div>\n",
              "    <div class=\"colab-df-buttons\">\n",
              "\n",
              "  <div class=\"colab-df-container\">\n",
              "    <button class=\"colab-df-convert\" onclick=\"convertToInteractive('df-9c237368-aca8-4cbd-9fe7-3ea934564f74')\"\n",
              "            title=\"Convert this dataframe to an interactive table.\"\n",
              "            style=\"display:none;\">\n",
              "\n",
              "  <svg xmlns=\"http://www.w3.org/2000/svg\" height=\"24px\" viewBox=\"0 -960 960 960\">\n",
              "    <path d=\"M120-120v-720h720v720H120Zm60-500h600v-160H180v160Zm220 220h160v-160H400v160Zm0 220h160v-160H400v160ZM180-400h160v-160H180v160Zm440 0h160v-160H620v160ZM180-180h160v-160H180v160Zm440 0h160v-160H620v160Z\"/>\n",
              "  </svg>\n",
              "    </button>\n",
              "\n",
              "  <style>\n",
              "    .colab-df-container {\n",
              "      display:flex;\n",
              "      gap: 12px;\n",
              "    }\n",
              "\n",
              "    .colab-df-convert {\n",
              "      background-color: #E8F0FE;\n",
              "      border: none;\n",
              "      border-radius: 50%;\n",
              "      cursor: pointer;\n",
              "      display: none;\n",
              "      fill: #1967D2;\n",
              "      height: 32px;\n",
              "      padding: 0 0 0 0;\n",
              "      width: 32px;\n",
              "    }\n",
              "\n",
              "    .colab-df-convert:hover {\n",
              "      background-color: #E2EBFA;\n",
              "      box-shadow: 0px 1px 2px rgba(60, 64, 67, 0.3), 0px 1px 3px 1px rgba(60, 64, 67, 0.15);\n",
              "      fill: #174EA6;\n",
              "    }\n",
              "\n",
              "    .colab-df-buttons div {\n",
              "      margin-bottom: 4px;\n",
              "    }\n",
              "\n",
              "    [theme=dark] .colab-df-convert {\n",
              "      background-color: #3B4455;\n",
              "      fill: #D2E3FC;\n",
              "    }\n",
              "\n",
              "    [theme=dark] .colab-df-convert:hover {\n",
              "      background-color: #434B5C;\n",
              "      box-shadow: 0px 1px 3px 1px rgba(0, 0, 0, 0.15);\n",
              "      filter: drop-shadow(0px 1px 2px rgba(0, 0, 0, 0.3));\n",
              "      fill: #FFFFFF;\n",
              "    }\n",
              "  </style>\n",
              "\n",
              "    <script>\n",
              "      const buttonEl =\n",
              "        document.querySelector('#df-9c237368-aca8-4cbd-9fe7-3ea934564f74 button.colab-df-convert');\n",
              "      buttonEl.style.display =\n",
              "        google.colab.kernel.accessAllowed ? 'block' : 'none';\n",
              "\n",
              "      async function convertToInteractive(key) {\n",
              "        const element = document.querySelector('#df-9c237368-aca8-4cbd-9fe7-3ea934564f74');\n",
              "        const dataTable =\n",
              "          await google.colab.kernel.invokeFunction('convertToInteractive',\n",
              "                                                    [key], {});\n",
              "        if (!dataTable) return;\n",
              "\n",
              "        const docLinkHtml = 'Like what you see? Visit the ' +\n",
              "          '<a target=\"_blank\" href=https://colab.research.google.com/notebooks/data_table.ipynb>data table notebook</a>'\n",
              "          + ' to learn more about interactive tables.';\n",
              "        element.innerHTML = '';\n",
              "        dataTable['output_type'] = 'display_data';\n",
              "        await google.colab.output.renderOutput(dataTable, element);\n",
              "        const docLink = document.createElement('div');\n",
              "        docLink.innerHTML = docLinkHtml;\n",
              "        element.appendChild(docLink);\n",
              "      }\n",
              "    </script>\n",
              "  </div>\n",
              "\n",
              "\n",
              "<div id=\"df-e107b688-7748-4f19-94f9-d1dd257b687d\">\n",
              "  <button class=\"colab-df-quickchart\" onclick=\"quickchart('df-e107b688-7748-4f19-94f9-d1dd257b687d')\"\n",
              "            title=\"Suggest charts\"\n",
              "            style=\"display:none;\">\n",
              "\n",
              "<svg xmlns=\"http://www.w3.org/2000/svg\" height=\"24px\"viewBox=\"0 0 24 24\"\n",
              "     width=\"24px\">\n",
              "    <g>\n",
              "        <path d=\"M19 3H5c-1.1 0-2 .9-2 2v14c0 1.1.9 2 2 2h14c1.1 0 2-.9 2-2V5c0-1.1-.9-2-2-2zM9 17H7v-7h2v7zm4 0h-2V7h2v10zm4 0h-2v-4h2v4z\"/>\n",
              "    </g>\n",
              "</svg>\n",
              "  </button>\n",
              "\n",
              "<style>\n",
              "  .colab-df-quickchart {\n",
              "      --bg-color: #E8F0FE;\n",
              "      --fill-color: #1967D2;\n",
              "      --hover-bg-color: #E2EBFA;\n",
              "      --hover-fill-color: #174EA6;\n",
              "      --disabled-fill-color: #AAA;\n",
              "      --disabled-bg-color: #DDD;\n",
              "  }\n",
              "\n",
              "  [theme=dark] .colab-df-quickchart {\n",
              "      --bg-color: #3B4455;\n",
              "      --fill-color: #D2E3FC;\n",
              "      --hover-bg-color: #434B5C;\n",
              "      --hover-fill-color: #FFFFFF;\n",
              "      --disabled-bg-color: #3B4455;\n",
              "      --disabled-fill-color: #666;\n",
              "  }\n",
              "\n",
              "  .colab-df-quickchart {\n",
              "    background-color: var(--bg-color);\n",
              "    border: none;\n",
              "    border-radius: 50%;\n",
              "    cursor: pointer;\n",
              "    display: none;\n",
              "    fill: var(--fill-color);\n",
              "    height: 32px;\n",
              "    padding: 0;\n",
              "    width: 32px;\n",
              "  }\n",
              "\n",
              "  .colab-df-quickchart:hover {\n",
              "    background-color: var(--hover-bg-color);\n",
              "    box-shadow: 0 1px 2px rgba(60, 64, 67, 0.3), 0 1px 3px 1px rgba(60, 64, 67, 0.15);\n",
              "    fill: var(--button-hover-fill-color);\n",
              "  }\n",
              "\n",
              "  .colab-df-quickchart-complete:disabled,\n",
              "  .colab-df-quickchart-complete:disabled:hover {\n",
              "    background-color: var(--disabled-bg-color);\n",
              "    fill: var(--disabled-fill-color);\n",
              "    box-shadow: none;\n",
              "  }\n",
              "\n",
              "  .colab-df-spinner {\n",
              "    border: 2px solid var(--fill-color);\n",
              "    border-color: transparent;\n",
              "    border-bottom-color: var(--fill-color);\n",
              "    animation:\n",
              "      spin 1s steps(1) infinite;\n",
              "  }\n",
              "\n",
              "  @keyframes spin {\n",
              "    0% {\n",
              "      border-color: transparent;\n",
              "      border-bottom-color: var(--fill-color);\n",
              "      border-left-color: var(--fill-color);\n",
              "    }\n",
              "    20% {\n",
              "      border-color: transparent;\n",
              "      border-left-color: var(--fill-color);\n",
              "      border-top-color: var(--fill-color);\n",
              "    }\n",
              "    30% {\n",
              "      border-color: transparent;\n",
              "      border-left-color: var(--fill-color);\n",
              "      border-top-color: var(--fill-color);\n",
              "      border-right-color: var(--fill-color);\n",
              "    }\n",
              "    40% {\n",
              "      border-color: transparent;\n",
              "      border-right-color: var(--fill-color);\n",
              "      border-top-color: var(--fill-color);\n",
              "    }\n",
              "    60% {\n",
              "      border-color: transparent;\n",
              "      border-right-color: var(--fill-color);\n",
              "    }\n",
              "    80% {\n",
              "      border-color: transparent;\n",
              "      border-right-color: var(--fill-color);\n",
              "      border-bottom-color: var(--fill-color);\n",
              "    }\n",
              "    90% {\n",
              "      border-color: transparent;\n",
              "      border-bottom-color: var(--fill-color);\n",
              "    }\n",
              "  }\n",
              "</style>\n",
              "\n",
              "  <script>\n",
              "    async function quickchart(key) {\n",
              "      const quickchartButtonEl =\n",
              "        document.querySelector('#' + key + ' button');\n",
              "      quickchartButtonEl.disabled = true;  // To prevent multiple clicks.\n",
              "      quickchartButtonEl.classList.add('colab-df-spinner');\n",
              "      try {\n",
              "        const charts = await google.colab.kernel.invokeFunction(\n",
              "            'suggestCharts', [key], {});\n",
              "      } catch (error) {\n",
              "        console.error('Error during call to suggestCharts:', error);\n",
              "      }\n",
              "      quickchartButtonEl.classList.remove('colab-df-spinner');\n",
              "      quickchartButtonEl.classList.add('colab-df-quickchart-complete');\n",
              "    }\n",
              "    (() => {\n",
              "      let quickchartButtonEl =\n",
              "        document.querySelector('#df-e107b688-7748-4f19-94f9-d1dd257b687d button');\n",
              "      quickchartButtonEl.style.display =\n",
              "        google.colab.kernel.accessAllowed ? 'block' : 'none';\n",
              "    })();\n",
              "  </script>\n",
              "</div>\n",
              "    </div>\n",
              "  </div>\n"
            ]
          },
          "metadata": {},
          "execution_count": 48
        }
      ]
    },
    {
      "cell_type": "code",
      "source": [
        "df.shape"
      ],
      "metadata": {
        "colab": {
          "base_uri": "https://localhost:8080/"
        },
        "id": "460BJVsVDtTw",
        "outputId": "fb9b154b-b29a-47c9-aa01-d568c3c520b6"
      },
      "execution_count": 49,
      "outputs": [
        {
          "output_type": "execute_result",
          "data": {
            "text/plain": [
              "(5011, 8)"
            ]
          },
          "metadata": {},
          "execution_count": 49
        }
      ]
    },
    {
      "cell_type": "code",
      "source": [
        "text = \" \"\n",
        "for i in df.text:\n",
        "  text = text + i\n",
        "\n",
        "print(text[0:90])\n"
      ],
      "metadata": {
        "colab": {
          "base_uri": "https://localhost:8080/"
        },
        "id": "zNlEpkWxD_3F",
        "outputId": "aa3434b5-40a4-4c1f-8182-4e2ccb129251"
      },
      "execution_count": 50,
      "outputs": [
        {
          "output_type": "stream",
          "name": "stdout",
          "text": [
            " #NewYearsResolution :: Read more books, No scrolling FB/checking email b4 breakfast, stay\n"
          ]
        }
      ]
    },
    {
      "cell_type": "code",
      "source": [
        "print(len(text))"
      ],
      "metadata": {
        "colab": {
          "base_uri": "https://localhost:8080/"
        },
        "id": "gDfn2CVBMY8B",
        "outputId": "f75d3967-fc74-40f4-acdf-30521a688d2e"
      },
      "execution_count": 51,
      "outputs": [
        {
          "output_type": "stream",
          "name": "stdout",
          "text": [
            "471086\n"
          ]
        }
      ]
    },
    {
      "cell_type": "code",
      "source": [
        "from nltk.corpus import stopwords\n",
        "from nltk.tokenize import word_tokenize\n",
        "from nltk.stem import PorterStemmer\n",
        "\n",
        "def frequency_table(text_string):\n",
        "    stop_words = set(stopwords.words(\"english\"))\n",
        "    words = word_tokenize(text_string)\n",
        "    ps = PorterStemmer()\n",
        "\n",
        "    freqtable = dict()\n",
        "    for word in words:\n",
        "        word = ps.stem(word.lower())\n",
        "        if word in stop_words:\n",
        "            continue\n",
        "        if word in freqtable:\n",
        "            freqtable[word] += 1\n",
        "        else:\n",
        "            freqtable[word] = 1\n",
        "\n",
        "    return freqtable\n"
      ],
      "metadata": {
        "id": "1djvSwnXMty9"
      },
      "execution_count": 52,
      "outputs": []
    },
    {
      "cell_type": "code",
      "source": [
        "frequency_table(\"who are you\")"
      ],
      "metadata": {
        "colab": {
          "base_uri": "https://localhost:8080/"
        },
        "id": "SlL88LFAOmFI",
        "outputId": "45d9f003-39f3-4d18-d4c0-0031eeee8731"
      },
      "execution_count": 53,
      "outputs": [
        {
          "output_type": "execute_result",
          "data": {
            "text/plain": [
              "{}"
            ]
          },
          "metadata": {},
          "execution_count": 53
        }
      ]
    },
    {
      "cell_type": "code",
      "source": [
        "def score_sentence(sentences, freqtable):\n",
        "    sent_value = dict()\n",
        "\n",
        "    for sentence in sentences:\n",
        "        word_count = len(word_tokenize(sentence))\n",
        "        word_count_ex_sw = 0\n",
        "\n",
        "        for word_value in freqtable:\n",
        "            if word_value in sentence.lower():\n",
        "                word_count_ex_sw += 1\n",
        "                if sentence[:10] in sent_value:\n",
        "                    sent_value[sentence[:10]] += freqtable[word_value]\n",
        "                else:\n",
        "                    sent_value[sentence[:10]] = freqtable[word_value]\n",
        "\n",
        "        if sentence[:10] in sent_value:\n",
        "            sent_value[sentence[:10]] = sent_value[sentence[:10]] / word_count_ex_sw\n",
        "\n",
        "    return sent_value\n",
        "\n",
        "\n",
        "\n"
      ],
      "metadata": {
        "id": "_8lwg3NNOyUc"
      },
      "execution_count": 54,
      "outputs": []
    },
    {
      "cell_type": "code",
      "source": [
        "def find_average_score(sent_value):\n",
        "  sum_value=0\n",
        "  for entry in sent_value:\n",
        "    sum_value+=sent_value[entry]\n",
        "  average=(sum_value/len(sent_value))\n",
        "\n",
        "  return average"
      ],
      "metadata": {
        "id": "a6dwKrbGjyZ5"
      },
      "execution_count": 55,
      "outputs": []
    },
    {
      "cell_type": "code",
      "source": [
        "def generate_summary(sentences, sent_value, threshold):\n",
        "  sentence_count=0\n",
        "  summary=\"\"\n",
        "\n",
        "  for sentence in sentences:\n",
        "    if sentence[:10] in sent_value and sent_value[sentence[:10]]>=(threshold):\n",
        "      summary += \" \" + sentence\n",
        "      sentence_count+=1\n",
        "  return summary\n"
      ],
      "metadata": {
        "id": "SIHPnAjNmnq3"
      },
      "execution_count": 56,
      "outputs": []
    },
    {
      "cell_type": "code",
      "source": [
        "def run_summarization(text):\n",
        "  freq_table=frequency_table(text)\n",
        "  sentences=sent_tokenize(text)\n",
        "  sentence_score=score_sentence(sentences,freq_table)\n",
        "  threshold=find_average_score(sentence_score)\n",
        "  summary=generate_summary(sentences, sentence_score, 1.3*threshold)\n",
        "  return summary\n",
        "\n"
      ],
      "metadata": {
        "id": "mtTMGPBjrFWY"
      },
      "execution_count": 57,
      "outputs": []
    },
    {
      "cell_type": "code",
      "source": [
        "result =run_summarization(text)"
      ],
      "metadata": {
        "id": "VAXZAp_puxur"
      },
      "execution_count": 58,
      "outputs": []
    },
    {
      "cell_type": "code",
      "source": [
        "print(result)"
      ],
      "metadata": {
        "colab": {
          "base_uri": "https://localhost:8080/"
        },
        "id": "N_L-0t2Du8Px",
        "outputId": "393ae902-8793-4896-d442-4805470fbab6"
      },
      "execution_count": 59,
      "outputs": [
        {
          "output_type": "stream",
          "name": "stdout",
          "text": [
            " Eat less. 2.quit lying.My #NewYearsResolution \n",
            "\n",
            "-Learn how to drive. what's your guys #NewYearsResolution ? Yes but with 159 #indicators! #newyearsresolution http://t.co/t62lTpkKyLEat French fries for breakfast every day in 2015 #NewYearsResolution@ochocinco I will tweet you everyday until you notice me!!!!! Have to stop falling off the grid.#NewYearsResolution - This year I want to really find myself. I need to get my ass back into gear! And burn it to the ground.This is my #NewYearsResolution http://t.co/3uvUfZJWChRT @TSAgov: Talk less. Touch more. #TSA #NewYearsResolutionHaving to poop after a shower &lt;&lt;&lt;&lt;. _Ù÷__Ù÷â #NewYearsResolution#NewYearsResolution 3. #newyearsresolution #newyearsÛ_ http://t.co/fkx051xrNhI'll care a little less next year! #FoxNews2015My #NewYearsResolution is to drink more!! !My #NewYearsResolution is to watch what I eat. More yum. Be better. #newyearsresolution #2015 http://t.co/VvcoOGskdMThrow back to when I had meat on my bones. #liveit #loveitMy #NewYearsResolution is to appreciate my friends more. #NYE2015My #NewYearsResolution ? Friend: I mean it this year. Me: I hear yaMy #NewYearsResolution is to gain weight. #HappyNewYear #2015#NewYearsResolution No more #NikkiManaj in her underpants in #20152015: - Accept that I can't be the same parent that my mom was. -Johnathan Edwards #NewYearsResolution#newyearsresolution - This fortune cookie. #NewYearsresolutionNew Year's resolution: Make pregnancy discrimination in the #workplace a thing of the past. #badcreditscore#NewYearsResolution is to not let my #CrohnsDisease control my life anymore. #lovelife#NewYearsResolution Leave the past in the past. #hunting #NewYearsResolution  nothin better than deer jerky! #Milk\"I am titanium.\" . #focusisme  #NewYearsResolutionStop eating over your laptop. #2015don't do it gradually. ÛÏ@Seamless: #NewYearsResolution - Order more SeamlessÛMy #NewYearsResolution is to be less depressed. #2015 #NewYear #NewYearsResolution #godbless #loseweight #BeHappy#newyearsresolution I can hopefully achieve -- make less typos on Twitter.#NewYearsResolution Live in TheNow (a district in an alternate dimension). Just gotta figure out where I left that vortex...#NewYearsResolution worry less. New job. But damn, it was worth it!#NewYearsResolution no. @FOX29philly my #NewYearsResolution, I challenge @BrianPHickey to a race around the world. I am stronger now have to be.#NewYearsResolutionTake more Tylenol. @RebelWilson my #NewYearsResolution - spend next #NYE with you! #LeelahAlcornWith the #NewYear right around the corner I've got my #NewYearsResolution. Buy a boat. GO! It'll be a fun one :)  #NewYearsResolution#NewYearsResolution? #newyearsresolutionHappy New Year!! #wednesdaywisdom #NewYearsEve #NewYearsResolution http://t.co/ILvFVpP1Lx#NewYearsResolution #1: Blog more. #1for1 #1and0 #BITW#NewYearsResolution, NOT to make any damn NewYearsResolutions!! #newyearsresolutionThis year I'm on it I promise u #newyearsresolution http://t.co/Um2fe8TKZjIn case it wasn't clear before: parents love your children unconditionally. lol. #HappyNewYear  #NewYearsResolution #NYE2015 #startnowFor my New Years resolution i want to become the best dancer i can be #NewYearsResolution #dancerprobs #dancertweetsJust realized I made my 2014 #NewYearsResolution -- sent book to publisher in December. ? _ÙÈ_Ù_Ç #NewYearsResolutionFarewell #2014! #mynewbackground http://t.co/xsezqyedT7Try and lose weight? Tom Peters\n",
            "\n",
            "#NewYearsResolutionMy #NewYearsResolution is to #travel, have more #fun &amp; serve #God more by helping others. That way if I fail, there's no way for me to be disappointed in myself.#NewYearsResolution NO MORE FAT BITCHES!!!!!! _Ùá #NewYearsResolution http://t.co/4M65161X4SUse my canon dslr more. #run restarting and getting a jump on my #NewYearsResolution ... Yes I do. To #SucceedandProceed!! @roastedbeanz Can't my #NewYearsResolution BE to keep calm and eat cookies? #newyearsresolutionÛ_ http://t.co/W9A8VC8mVV#NewYearsResolution go from goth to cyber gothA problem I have with relationships is I try to find all the problems rather than appreciating all the good #NewYearsResolutionNew Years resolution for me = to pray, play, &amp; love more. Simple #NewYearsResolution #love @newyearsredolutionRT @BDMYC: My #NewYearsResolution is to grow and continue to make you guys smile. @MLBPAClubhouse quit smoking and get a steady job #NewYearsResolution@MLBPAClubhouse The basic one. @MLBPAClubhouse my #NewYearsResolution is to go to as many @Padres games as possible. #HappyNewYearRT @KalynHarris1: My #newyearsresolution is to pet more catsI'd like to teach the world to sing in perfect harmony. \"@MLBPAClubhouse #NewYearsResolution to go to more twins games! @MLBPAClubhouse #NewYearsResolution go to more baseball games#NewYearsResolution #2015 2.) @zorm Yes. @MLBPAClubhouse #NewYearsResolution is to go to games at three ballparks i've never been to before.My #NewYearsResolution: Continue to believe that miracles can happen if you fight for them. #NYE2015 #2014Memories http://t.co/XWehx6u88W@MLBPAClubhouse #NewYearsResolution to quit smoking. @MLBPAClubhouse my #NewYearsResolution is to be more positive and focus on my loved ones. @MLBPAClubhouse my #NewYearsResolution is to forget about the small thingsMy New Year's resolution is 1280x1600 #NewYearsResolutionThe only, ONLY resolution I will make is to sleep more. #FoxNews2015 Call me!RT @Don_Marcell: #NewYearsResolution Be Happy #2015New Year's Resolution: Don't make fake new year's resolutions. #2k15#NewYearsResolution 320 x 200, enough to play some DOS classics. Oh wait I already am _ÙÕMy #NewYearsResolution is to keep being awesome, which is nothing new. #andwhatRT @PeterMorlow: @boowup  My #NewYearsResolution me too  http://t.co/oLGyN16v8NRT @ShaneNash94: #NewYearsResolution Eat more Pizza as well! Hope it's like that all year #NewYearsResolutionRT @LauraECPaul: My #NewYearsResolution: To Be #Happy. #2015 #NewYearsResolution#NewYearsResolution 1: Don't just post on @Pinterest. jk LOL #NewYearsResolution#NewYearsResolution Work Hard. #gaspump@_Argento  my #NewYearsResolution : treat myself more kindly, and take time to relax and de-stress. :)1. ! #startupRT @AZRogerNaylor: #Arizona #NewYearsResolution Drink in a real saloon. #lifetime #workout #run #NewYearsResolution #weightloss#NewYearsResolution : Stop Trusting So Many People. #newyearsresolution http://t.co/MQj6TpZokuRT @cgutierrezz101: #NewYearsResolution hit a growth spurt. Faith+ Works.RT @TYB_Jarvey: #NewYearsResolution make every cent count.#NewYearsEve YEAAAAH! #tcot @marklevinshowMy #NewYearsResolution is to tweet more for my fans. I deserve it. #2015 #NewYearsResolutionNext year I will spend my New Years Eve in DUBAI #ForSure #20ThingsIWantFor2015 #NewYearsResolutionA little motivation for writing more in 2015: http://t.co/BMNP4lipVz via @sarahkpeck #NewYearsResolutionMy #NewYearsResolution is to become closer with god.If I believed in #NewYearsResolution (s), mine would be to give a shit. @jamesmaslow my #NewYearsResolution is for you to follow me one day I hope u do. #boyrusher.#NewYearsResolution from the 1999. #GoBeavs #GoBoozeRT @AlanSanchez: In 2015 I want to be a awesome as @DonovanTroi #NewYearsResolution #truthLoving me more and doing the best for me. This is ironic. #Toronto i will be in you again. To read more. #2015#NewYearsResolution Emotionally destroy McDonalds workersToday I went to a beauty store for the first time AND decided to never go to a beauty store again! \"RT @Bentleyreal: #NewYearsResolution: More wine, less beer. #grumpyhumanMy #NewYearsResolution is to not make a #NewYearsResolution@dinalohan my #NewYearsResolution is to meet @lindsaylohan ! #helpRT @itsmehonayy: Going into 2015 single and broke. #newyearsresolution http://t.co/NgteqIgsqj http://t.co/JQserYOOTp@SandalsResorts #NewYearsResolution to book more Sandals trips. #NYE2015 #NewYearsResolution #2015Goals http://t.co/zlilrRvyzb#NewYearsResolution : take down my Christmas tree before March.#NewYearsResolution number three would be to travel more, starting with return trips to New Orleans and Florida.Add more fun, inspiration, glamour, mystery, &amp; strength to my life's playlist. All the time. RT @DrRubidium: 1. Take more names\n",
            "\n",
            "#NewYearsResolutionNew Years Resolution #1 : To not be able to remember anything from tonight. You can do this. That would be #1. Take more names\n",
            "\n",
            "#NewYearsResolutionNo more false resolutions that will be broken by February. #HappyNewYear #NewYearsResolution #Unstoppable #BringOn2015#NewYearsResolution burn through a whole candle for Pete's sake http://t.co/ODUt7rqndKYour \"want to\" should never be bigger than your \"will to.\" #newyearsresolution #newyears #2015I swore in not to eat ANY more deep fried food for 2015! _Ùª #NewYearsResolutionThat's a resolution I can get behind. RT @DrRubidium: 3. Drink more milk\n",
            "\n",
            "http://t.co/80DpjC20zr\n",
            "\n",
            "#NewYearsResolutionFor my #NewYearsResolution, I've decided to try to be nicer to @AlmostShawn. #Maybe?RT @IWYarnFest: #NewYearsResolution for fiber fanatics like us! #dreamofphilanthropyHappy New Year! Finished #57 yesterday! Sigh. Ï_ #NewYearsResolution#NewYearsResolution have a friggin baby by this time next year. RT @coreywoodstempe: #NewYearsResolution I need to go suit shopping with @AnthonyHotels That guy's suit game is no joke. _ÙÔ__ÙÔ__ÙÔ_ #NewYearsResolutionRT @TommyMilagro: @KymKral I decided my #NewYearsResolution is to do @mouthypants in the new year. :-) #NewYearsResolutionRT @Aniion: My #NewYearsResolution is to stop being an asshole. #SimpleEnoughJoin a gym! @MLBPAClubhouse #NewYearsResolution #HappyNewYear go to more baseball games and visit Fenway for the first time#NewYearsResolution  to curse more#NewYearsResolution quit or at least minimize sharing my sh*tty opinions on twitter.I want 2015 to be the year that changes everything in my life!! What makes 1/1 so special?My #NewYearsResolution is to stop making #NewYearsResolution. What makes 1/1 so special?My 2015 #NewYearsResolution is the same as every year: Try to not kill all the people that need killin'. #HappyNewYear #NewYearsResolutionI wanna shine some pennies! #2015 #NewYearsResolution #musiclifeI really hope I am going to start grad school\n",
            "\n",
            "#NewYearsResolutionMy #NewYearsResolution is to release artistic me. God \n",
            "2. Filthy rich. !RT @TomAdelsbach: My #NewYearsResolution is to stop spending so much time chatting online. _ÒüRT @LRoyBadFish: #NewYearsResolution Grow the fuck up, get shit together and be awesome. @MLBPAClubhouse #NewYearsResolution  to die tad get off the coach and play outside with my son more@theycallmejanay You are right, I have neglected my pop princess. There's my first #NewYearsResolution. @channingtatum #magicmike#NewYearsResolution 3: Lose my holiday weight!#NewYearsResolution \n",
            "\n",
            "Instead of being the tale, work hard to be the head. #Christianity -cpMy #NewYearsResolution is to not post my Facebook Year-In-Review video. YouÛªre welcome.My #NewYearsResolution is to not have a resolution. #Christianity -cpMy #NewYearsResolution is to either 'favorite' a tweet or reTweet it; but not both. #JesusMy #NewYearsResolution is to make friends that have good New Years resolutions. Took up most of THIS yearRT @jcoleman328: #NewYearsResolution Launching #200DaysWithoutRayBan. @MLBPAClubhouse My #NewYearsResolution  is to watch more baseball. #HappyNewYear#NewYearsResolution I'm buying oven mitts without holes@StubHub I want to go to a lot of Detroit Tigers games in 2015! Drink more red wine: http://t.co/xLgrxpZHH9Û good ideaMy #NewYearsResolution is to keep up with the trimming of my toe nails. And this. #healthyteeth #NewYearsResolution@MLBPAClubhouse My #NewYearsResolution is to watch more baseball. If that's possible.#NewYearsResolution 2: Complete the 2015 Reading Challenge! Eh, screw it, maybe I'll do it next year instead... #lolMy only #NewYearsResolution is pulled from @owenpallett: I Am Not Afraid. #breakingupwithH&amp;M#newyearseve workout! #nodaysoff we stay working hard. Both personal and business  #NewYearsResolutionNew Year, new habits. #GoalsFor2015 #NewYearsResolutionOne of my #NewYearsResolution is to learn Italian. . . I will never smoke again #NewYearsResolution#NewYearsResolution: keep at least one promise I make to myself. 17:1)#NewYearsResolutionMy #NewYearsResolution is to start smoking. Thank God!#NewYearsResolution Learn from yesterday, Live for today, Hope for tomorrow. The best #NewYearsResolution I ever made. Bye bye #onlinedating. #procrastination  #NewYearsResolution#NewYearsResolution number 1: Find my slippersHappy 2015! #newyearsresolution #HGTVNewYearMy #NewYearsResolution Is To Start &amp; End This Yr W/ My Gurllll @lexxmoe By My SideMy 2015 #NewYearsResolution is to finally stop killing chickens at Lon Lon Ranch and actually beat Zelda: Ocarina of TimeRT @Jmybad: My #NewYearsResolution is just a pile of bullshit I spew.Last year I set out to clear my _ and mind after my divorce; now my goal is to know it is ok to have fun &amp; love again #NewYearsResolution#NewYearsResolution\n",
            "\n",
            "Shutting down gossip when it creeps, covering those persecuted. But really it's that I will make more money so I can go out to eat more.#NewYearsResolution \n",
            "1. #sportsbiz@sixfootfiveguy One of my \n",
            "#NewYearsResolution is to power bottom more often...?And the annual New Years Resolution lives on: don't die. What will your resolution for the new year be?#NewYearsResolution \n",
            "\n",
            "Workout at gym instead of masturbating.Exercised so much this wk I can't lift my arms.Couldn't rub one out if I tried.#NewYearsResolution to finish these AP English assignments before Sunday night.Need more nature #NewYearsResolution http://t.co/HpTQZougCZOne of my #NewYearsResolution is to eat more ass.In 2015 I will love harder, forgive quicker, live without regret, and find some good in everything. #newyearsresolution http://t.co/SqeFqTghhDHey Los Angeles,  if you don't see me on the corner of Winnetka,  offering blow jobs for heroin money, my #NewYearsResolution is working.#NewYearsResolution Meet @ItsMidnightRed @ericsecharia @ColtonRudloff @anthonyladao @thomasaugusto @JoeyDiggsJr @carlyfornia18 @Niny_Li _ü_üRT @SethDaigle1: #NewYearsResolution try meth #NewYearNewMe #MethCannot wait for the winter classic hawks vs capitals ! !! !!! #2015 #NewYearsResolution #HappyNewYearFirst hungover meal of 2015, McDonald's breakfast. !! #2015\"I plan to not get that fat.\" - #NewYearsResolutionMake better bad decisions. #tcot #p2RT @Reile_Talk: #NewYearsResolution Be like Ray IrishSmile more, spend less. _Ù_ä #NewYearsResolutionMy #NewYearsResolution is #Gratitude@amahnke Done! _Ù÷ã\"@StubHub: #NewYearsResolution = Go to more concerts! New year, new you. Not happenin' http://t.co/TokpwrVdhqMy #NewYearsResolution to drink less #coffee is failing miserably. Literally. A beautifully #booty is a sad thing to waste. #newyear #newyearsresolutionMy #NewYearsResolution is to avoid the gym until everyone else gives up on their resolution. B. 7. #vagabondprobs#NewYearsResolution I just want to be HappyÏÓü#NewYearsResolution No. Build #edpolicy connections. Move back home #iowa. #2015 #NYE2015 #NewYearsResolutionPut less creamer in my coffee. #healthyliving #NewYearsResolution http://t.co/DebFkWCWvQRT @Austinflyskites: My #NewYearsResolution is to stop judging people on social media so hard.New year same ol me! #HappyNewYearNeed help with #NewYearsResolution: Fav if I should care less what others think. Hahaha..#BlahBlahBlah #NewYearsResolutionTo fly, to serve. Those are my #NewYearsResolution 's. #startTODAY#NewYearsResolution No. #yolo #NewYearsResolutionMy ongoing #NewYearsResolution is to have no less than one massage per month. #TreatingMyselfRight #HappyNewYearAnother #NewYearsResolution: Keep my phone in my pocket more. #KickCancersButt . I guess many others joining me #NewYearsResolution #2015This is my #NewYearsResolution http://t.co/2ck3qZInDRWelp. RT @ConcertWeirdos: #NewYearsResolution go to more concerts than I did lasÛ_My #NewYearsResolution is to finally make an effort and completely let myself go.My #NewYearsResolution is not to make any New Year's resolutions. #pun #NewYearsResolutionDay one, time to turn my life around. as often as possible#NewYearsResolution More beer, more school, and party. #ThePowerOfPositivePartying.Day 1: Yoda says it best. Imma change that this year #NewYearNewMe #NewYearsResolution #JkNotReallyMy #NewYearsResolution is simple: Stop Trying! #NewYears #2015#NewYearsResolution go to the gym and have a healthy lifestyle!!! #HappyNewYear #NewYearsResolutionRT @OnionAdCzar: My #NewYearsResolution is to be healthier. This will work out. So the same for #NewYearsResolution !My #NewYearsResolution, to not die before #StarWarsTheForceAwakens is released. @kalanisim55 be a badass, as usual #NewYearsResolutionRT @AyJayJay3: New Years Resolution: to be less ratchet  #NewYearsResolutionMy New Years Resolution is 4k....\n",
            "\n",
            "Get it??? Okay... #newyearsresolution#NewYearsResolution use twitter more. Only thing on my mind _ÙÔ #NewYearsResolution#NewYearsResolution listen to more dmxHappy new year!!!! #2015 #NewYear #NewYearsResolution  try something new every week@StubHub #NewYearsResolution I wish to see Maroon 5 please #TixWishMy #NewYearsResolution , 1. And with that being said my #NewYearsResolution is to have a group of friends like #Friends #NewYears#NewYearsResolution ; lose weight. _ÒüRT @ThuhnderCAT: How bout if you don't fuck with me I don't fuck with you simple as that #NewYearsResolutionDon't worry, be happy. _Ù÷_ #NewYearsResolution#NewYearsResolution number two: tweet more. I'm broke though _Ù÷â@StubHub #NewYearsResolution Make my dream come true. #HappyNewYear #2015#NewYearsResolution  is to get my future boyfriend  @HayesGrier to notice me.Fuck bitches. Get money. Go to the gym every day!#NewYearsResolution Bigger Better ButtMy #NewYearsResolution is to use less toilet paper. #newyearsresolution #theseareafewofmyfavoritethingsNew Years resolution: Don't fuck up 2015 as bad as I did 2014. #HappyNewYear #NewYearsResolution Going to #read and write more! #YEEYEE CARRY ON PARTY PEOPLE!! _Ù÷_ #NewYearsResolutionRT @dsmy: Let's make 2015 amazing! Don't wanna set myself up for disappointment.#NewYearsResolution: go to bed every night at a descent hour. #wish #BringOn2015 #NewYearsResolutionÛÏ@chrisbrown: Supper club right now!!!! I don't go to the gym. _Ùª_ÙÔÎÏ¬ #NewYearsResolution_ÙÔ_ÙÔ ÛÏ@chrisbrown: Supper club right now!!!! #newyearsresolutionRT @DHenry52: Get at least 3 girls pregnant, quit school, and mooch off taxpayers... #NewYearsResolutionRT @Sexuallycam: #NewYearsResolution to meet cameronNo more mediocre women #NewYearsResolution#NewYearsResolution  the engage more in the word for the girls. 2. 3. 4. Get BMI to 24.9 or lower.RT @BryceMan80: My #2015 #NewYearsResolution is to hate every thing! I need to get over my fears. I'm a grown as mf #NewYearsResolution\"In 2015, my #NewYearsResolution is to NOT give you iced tea after 8 PM.\" Twice. Fruits and veggies everyday#NewYearsResolution 3.. #2015#NewYearsResolution # 2: Make it a priority to see lots of live music shows with friends in #2015. Make your 2015 #NewYearsResolution to put the Garden back in HGTV. For my New Year's resolution, i resolve to find my wedding dress and continue to be my awesome self :) #NewYearsResolutionRT @I_Cant_Fish: #NewYearsResolution Don't buy crack for a year. Stop girl hate when I see itMy #NewYearsResolution is 2D15. #2015 #NewYearsResolution #Muppets http://t.co/7ZfcSfDoif365 days 100 lbs #NewYearsResolutionNew Years Resolution: OBEY SPEED LIMIT AT ALL TIME #AsaPa #SanaTumagal #Cruise #NewYearsResolution #MeantToBeBroken http://t.co/PyJqPAvPnlI will lose 100lbs in 2015  #HappyNewYear #NewYearsResolutionRT @HacksIsTeenEyed: #NewYearsResolution:\n",
            "#1 Get @jennakimjones on @AFVofficial \n",
            "#2 Make less lists\n",
            "#4 Fix the Three button on my keyboard\n",
            "Û_Write more books RT @GRRM: Kill more Starks. #HappyNewYear#NewYearsResolution 7. Read a book once a month#NewYearsResolution 6. Volunteer more in my community#NewYearsResolution 5. ! #OutbackBowlJust found my New Years resolution. Draw. :'( #ughNew Years resolution? #onthatgymgrindNew Years resolution: have the best year ever. 2. Draw. Work out. Again. I think. #babystepsMy New Years Resolution is maybe insane: I want to track everything I eat. #tbt http://t.co/7vt5zy765oRT @OMGchronicles: New YearÛªs resolution No. Let go, and let God. #goodbusiness@TheEllenShow New Years resolution - don't miss Ellen. Big weight off my shoulders.RT @evmendozaa: New Years resolution be like #InNOut I don't even fvck wit meat doe. #GODWILLING\"My New Years resolution is to not be ugly\"New Years resolution: not going to let the little things get to me.I said last night Im going to be healthy this year. OH, WAIT. Love you. Love you. #women http://t.co/IawFHWCNqjMy new years resolution is to not tell anybody my new years resolution. #NoMoreStressinNew Years Resolution #289: build a watermelon boat. Travel more. All the kinds. JK! All the kinds. !#Flourish with me in 2015. #OneWord365 is my #resolution. ! It is what it is. None of this \"turn my life around\" bullshit. Here it is!!! I'm good. Lmao!! \"RT @imjrb3: New Years Resolution: See more movies. All the kinds. Ha! Mine was sort-of similar to your #16. HA! &amp; Here's My #NewYearsResolution..!! #2015 is going to be a year of #change for me! #newyearsresolutionAlready have a #NewYearsResolution  picked out: its time to leave all these feelings in the past #neverworthmytime #goodbyepast #hellofuture#NewYearsResolution #1 Stop gossiping completely. No more synthetics in 2015!A #NewYearsResolution for 2015: be shaped more by #Beatitudes than vicissitudesNew Year Resolution: Not holding on to hurt that others done the me. You turn 18 this year, time to start living for yourself.I rly rly want blonde hair #NewYearsResolutionRT @owl_be_darned: #NewYearsResolution Stop giving a fuck what people think about you. You turn 18 this year, time to start living for yourÛ_#NewYearsResolution Refuse to be a victim. Forgive, but don't forget.Most common #NewYearsResolution #loseweight #workout - how about new home :)No More Procrastinating. I need to stop. Lol. - John Burroughs #NewYearsResolution#NewYearsResolution No Repeats#NewYearsResolution courtesy of @jamiecullum: to not miss the magic I see every day in my #ordinarylife. #photograph http://t.co/TCfMU9ujtz#NewYearsResolution work on handling stressOfficially time to start writing #NewYearsResolution in pen!Get busy living or get busy dying. Hmmm. Leave the angry to themselves.RT @khrismonegenege: #NewYearsResolution in 2015 I aim to read instructions. My only #NewYearsResolution _ÙÔÎ http://t.co/HJy5Pix30zI can promise that I will never let myself get this way ever again. 3 #SocialMedia #NewYearsResolution: Be More Interesting! Mediate. Avoid WIIFM. #newyearsresolution #newyearnewyou #reinventyourself #2015#NewYearsResolution Wake up 1 hour earlier every day. Possible #NewYearsResolution? Yup, I think so!This should be a #NewYearsResolution for us all http://t.co/8z80dVXWEFMy #NewYearsResolution is to stop caring so much. #thatwaseasyDo not go where the path may lead. #2015 #NewYearsResolution #NewYear #NewYear2015 #betteryourselfMy #NewYearsResolution? To be more #awesome! #newYearsResolution #selfimprovement #BrandNew you! Come on #Greensboro - I am listening :)My #NewYearsResolution this year is to stay calm &amp; healthy! #newyearsresolutionOh! #GoalsFor2015  #NewYearsResolution http://t.co/gRwVEbkISs#NewYearsResolution #1 Be a pro at whatever I do. Be it #kinky or vanilla life. #prodomme #dominatrix #femdom#NewYearsResolution ? #2015 #NewYearsResolution #AllAboutMe #GettingOnRT @standtall___: #NewYearsResolution to speak my mind moreI've been gone too long and missing out it seems. New Photo. My only #NewYearsResolution is to meet you girls!! _ÙªÉ_ÙÕ»_Ù÷_ #NewYearsResolutionNo Slouching! The Science of Good Posture and its Benefits http://t.co/Xiab2deN2F #NewYearsResolution http://t.co/6G6dWkSl5JNever been kissed on New Years. Work toward understanding the roots of community violence: http://t.co/hbortnXlSu #NewYearsResolutionNew Year's resolutions.. GO! _Òü\n",
            "\n",
            "#newyearsresolution Û_Here's a #NewYearsResolution you can actually keep... Watch more remake movies. #Hollywood #moviesLol. #newyearsresolution #happynewyear #2014 http://t.co/0FiP12roFa#NewYearsResolution I need to use a new emoticonturning tasks into habits #productivity simple step that makes a difference #NewYearsResolutionÛÏ@WhiteBeltBJJ: Get ready for the #NewYearsResolution crowd! #sarasotalifestyle #gettingfit #newyearsresolution @ LA Fitness SarasotaÛ_ http://t.co/cOjJX6gByWNothing ventured, nothing gained. #idontneedyouMy #newyearsresolution : Be kinder &amp; more understanding. This will be the ultimate #NewYearsResolution! Instead of someone who Û_My #NewYearsResolution is to make more money. _ÙÎµ_ÙÎÈ_ÙÎ¼\n",
            "#NewYearsResolutionDay 2 off of artificial sweeteners. The smooth kind. #11 Meditate Often. One quality I lack _ÙÔ_ #NewYearsResolution#NewYearsResolution is to \n",
            "\n",
            "1. #BeBackSoon BusyÛ_ http://t.co/jrsWmGizTuTo finish the projects I start! #newyearsresolution http://t.co/mzT4jcF1WNÛ@Cariloha my #NewYearsResolution  is to get a business of my own going and for my family and I to eat healthier as well as excercise more !#NewYearsResolution Beard2015: Is the year I figure out what I wanna do with the rest of my life #NewYearsResolution#NewYearsResolution ... STOP talkin' smack. #newyearsresolutionRT @standtall___: #NewYearsResolution is to work even harder#NewYearsResolution don't buy any more books till I finish the ones on my shelves... #seehowlongthislasts #BookNerdProbs #bookaddictionI spent the entire morning at work coming up with the perfect #NewYearsResolution : \"Stop wasting time at work.\" I need to change my attitude towards her. _üRT @jeski66: . 2015 #hereicome! _ÙÕ©One #NewYearsResolution of mine is to work on my spending. You see obstacles when you take your eyes off the #goal. #newyears came early this year. plus going to Ohio State.#NewYearsResolution 1. I still plan on being the same old annoying me as last year #NewYearsResolution#NewYearsResolution for 2015: get fit. #Iwantobehip #NewYearsResolutionnext year, GNC will be the main store i'll be in. Oh well, #NewYearsResolution@fitnessandfeta #NewYearsResolution of a complete chin up is in the bag!RT @KingQuijano: #NewYearsResolution Get back in shape &amp; stop cussing. I've decided to work on my #NewYearsResolution, play #DAI and eat cake and wine. wtf #NewYearsResolutionThis year I'm going on the offensive. I'm on it! _Ù÷â #NewYearsResolutionMy graduation photo.... I should probably take one soon... #newyearsresolution http://t.co/FgH5xHym4XMy New Years goal: inspire and help people get in shape. http:Û_#NewYearsResolution get a boyfriend @sammywilk _Ù÷äI am going put up more tweets than retweets next year. !Û_ http://t.co/KS1asxlvAv#NewYearsResolution prove everyone wrong. #2015 #NewYearsResolution#NewYearsResolution get to Hayward more than once in the calendar year (fuck me)#NewYearsResolution edit: get out of town more than I did in 2014 period#NewYearsResolution - that college graduates of the Class of 2015 enter into #entrepreneurship instead of a #job#NewYearsResolution - that #neworleans experiences economic growth and worth valued at 1 billion!#NewYearsResolution get more piercingsRT @Amandazz101: #NewYearsResolution ;be apart of a big ass crew _ÙÔÇ_ÙÔ__ÙÔ__ÙÔÇ_ÙÔ__ÙÔÂ_ÙÔÂ_ÙÔ_May I find more work onstage and on-film in 2015! Yeah, I miss that... #newyearsresolutionÛ_ http://t.co/49GNzZEiloI'm gonna marry Austin Swift\n",
            "@austinswift7 #NewYearsResolutionNew Year's resolution - Take care of me! Learn to #budget. Bring on ur #NewYearsResolution I am going to learn more #glutenfree baking. #Anyway #MerryChristmasEve #NextYear#NewYearsResolution: #HelpOthers. #2015 #NewYearsResolution #selfimprovement #selfcare #phillyyoga #phillyfitRT @Tafa64: I wanna hold you until the sun stops shining and the earth stops moving or forever whichever one happens last _ü_ü #NewYearsResÛ_No more fucking with the niggas that aren't on an equal or greater status than myself #NewYearsResolutionI better enjoy my freedom while it lasts! @YosemiteNPS @LakeTahoeCA #NewYearsResolution http://t.co/788fnE4HZqI really want to learn how to knit. #Plastic is bad for the ocean...#NewYearsResolutionNo hate new years. !! Haven't put a # on days of week though. LOL.My New Years Resolution is to be nicer to people #NewYearsResolution https://t.co/5FCV2JAzzCMy New Years Resolution is... #NewYearsResolution https://t.co/dWv6XnviKfOkay. Fifty sit-ups. #postbabybody #NewYearsResolution http://t.co/dFVC7QS6rwGetting my new Fitbit all set up! #SorryNotSorry. Definitely my #NYR #NewYearsResolutionFeeling fat. \"My #NewYearsResolution: be less active on #Facebook and more active on other social media outlets. #twitter #InstagramGoal for 2015 is to not end up homeless. _Ù÷â_Ù÷â_Ù÷â#NewYearsResolution7. Let's do this!! #fitness for #healthygamerP.S. RT: #NewYearsResolution: To get in the habit of ending every phone call with 'Live Long and Prosper. Thanks @TheRecipeClub #NewYearsResolution http://t.co/oSOj159HYJMy 1st #detoxworkshop @ @thespringsla! No more #Drama no more #BS. To be #skinny &amp; have #Ana take over my life. It was a sign. #newyearsresolution #actuallystickingtoitRT @jillibean052: #NewYearsResolution learn all the words to Ew by @jimmyfallon and recreate the video w/ @Britters_SmithStarted one #NewYearsResolution early by going to the gym tonight #abouttime #getfit #babysteps #whatsnext#newyearsresolution stop fucking with fuck niggas. First on my list is to travel more.#NewYearsResolution I think I can keep my new one... to stop making New Years Resolutions! \\m/ :PMy #NewYearsResolution is to bring back the word \"davenport\".Making positive changes is tough. Researching #publishers #literaryagents#NewYearsResolution I will not jump out of an airplane.I have a nack for sucking face pussy for 45 minutes until its swollen like boxing gloves......i gotta stop that  #NewYearsResolutionMy #NewYearsResolution ? Wait. #twitter #NewYearsResolutionI'm on it! More offal. But now I have @BelcampoMeat in #dtlaDecided part one of my #NewYearsResolution. Jokes. ..#NewYearsResolution\"@ASAPferg: What's your #NewYearsResolution ?\" #doitMy #NewYearsResolution is to make more money. Either do #yoga or #ballroomdancing. #needtoreducestressMy #NewYearsResolution is to make more money. #healthMy #NewYearsResolution is to make more money. #annoyed #NewYearsResolutionMy #NewYearsResolution is to make more money. #2015goals #HappyNewYearMy #NewYearsResolution is to make more money. #2015 #NewYearsResolution#NewYearsResolution learn how to say no#NewYearsResolution stop overthinking#NewYearsResolution Find out what I have to do to finally be happyMy only goal in 2015 is to be happy. Go! #roadtripping #NewYearsResolution #traveltips #retweet @FemaleBloggerRTMy #NewYearsResolution is to make more money. @nezzness new year new me #NewYearsResolution\"@WWF: I will NEVER buy something that was once part of a living #tiger. Researching #publishersÛ_My #NewYearsResolution is to make more money. _ÙÕ__ÙÕÏ#NewYearsResolution get my band signed to @FueledByRamen :) #jointhefamilyMy #NewYearsResolution is to make more money. #2015 #NewYearsResolution#NewYearsResolution : when someone sends me a calendar invite covering the time they are on vacation, I'm going to accept then tag along.I'm gonna make the \"see you next year\" joke as much as possible. I'm starting as soon as I clean out my basement #2015 #NewYearsResolutionMy #NewYearsResolution is to make more money. _Ù÷â_Ù÷â_Ù÷âÏÜRT @CblocHD: #NewYearsResolution Spend time with my family! _ü_Ù÷ÄMy #NewYearsResolution is to make more money. Prerequisite for mine, get a job again.My #NewYearsResolution is to make more money. #thatisall#NewYearsResolution Everyone matters! 1: Tweet more often. ShÛ_RT @TeamBobbyEwing: My #NewYearsResolution.....to help get our beloved tv show back on tv ASAP! #2015 #NewYearsResolutionYa, I'm going to be one of those people on New Years...time to lose weight and tone out! #newyearsresolution http://t.co/DWeVIZyUSwLife is short. #2015Goals #NewYearsResolution #anime #hentaiMy #NewYearsResolution is to make more money. Hoping that will help me shed those few extra lbs!My #NewYearsResolution is to be more organized. New me. Silly/needy, yes. #2015 #NewYearsResolution#NewYearsResolution 2015 #3: If I get the urge to gossip, I must only gossip about the good in people. #AmIDoingThisRightÛ_ http://t.co/QnyPIXX30e#NewYearsResolution I will become stronger than ever. #bodybuilding #fitfam #fitlife@Kourtney_Shotz too good, right?! Going to check out joining a gym this week.... #NewYearsResolutionMy #NewYearsResolution is to make more money. _ÙÔ´#NewYearsResolution become a marine.My year couldn't have ended any better. Can't wait to roll it out in the next few days! More dates. More love. Less introversion.My #NewYearsResolution is to make more money. ? People for this #NewYearsResolution ! _Ùª _Ù÷ http://t.co/IvT3RFp1pC@IntThings #NewYearsResolution for good healthOne of my New Year's resolutions will be to find someone to hang out with! _ÙÓ´#NewYearsResolution Cosplay as James Kidd/Mary Read. I'm #excited to get back in shape!#NewYearsResolution #1 no meat. If a loved one gets on a boat or a plane, remind them you #love them. #newyearsresolutionFor the next four months it's going to be. Diet. Fitness. Work. Guitar. #life #weightloss #music #NewYearsResolutionAvoid my reflection. Honest, loyal, honor roll kinda shit _ÙªÎ #NewYearsResolutionNo stress, No worries. Ï_ #NewYearsResolution @Nancy_Evaaan#NewYearsResolution 1.Keep up my weight loss &amp; bulk up to be a hot #gaydaddy 2. get my dog a sibling 3. Date to find future #husband #gayMy #NewYearsResolution is to make more money. That's more fun.My #NewYearsResolution? #RWD #webdesignGod Help us All. Let's do this. Already planning the #escape. Can't wait to do more! Aim for a measurable #newyearsresolution insteadFuck it. I'm starting my #NewYearsResolution  early. #newyearsresolutionRT @JustDuncIt: #NewYearsResolution eat more ChipotleMy new years resolutions are mostly a list of cheeses I want to eat\n",
            "#NewYearsResolution #NewYear #NewYear2015 http://t.co/y7R6FC5jpAWhat are your #NewYearsResolution? #HashtagOfTheWeek  #NewYearsResolutionFierce it is! Not die. ! Goals are the same. #1 Eat Better. #3 Read 52 books. #4 Write two novels &amp; edit the four sitting on my computer. #5 Learn to bake bread. #HashtagOfTheWeek  #NewYearsResolutionI always invest so much time into the wrong people.. whennnn will I learn?! !?! #9 Turn off the TV. I LOVE @NCIS_CBS so that might be a probI have #NewYearsResolution ideas &amp; really should pick one. #10 Work Out Every Day. @GetTalentedly cc @tcc4348 @scotthbrownA #NewYearsResolution for @FrankieJGrande: #FollowMeBackFrankie! Oh! #bulletjournal #NewYearsResolutionMy #NewYearsResolution is to make more money. 5: Write every day. Uh. #HashtagOfTheWeekDo you have any #career resolutions? #cannabis #health #NewYearsResolutionWorry less about what people think. About. We. Stop. Writing. Word. For. Emphasis. In. #FatGuyProblems#NewYearsResolution 2: stop getting #disappointed. _ÙÎÛ \n",
            "#NewYearsResolutionMy #NewYearsResolution is to finish a #ToughMudder2015 . #HashtagOfTheWeek  #NewYearsResolutionMy #NewYearsResolution is to make more money. @GetTalentedly cc @tcc4348 @scotthbrownMake a #NewYearsResolution to Keep in Touch ... like, with pen and ink! Make kill pounds stop killing sweet #cats #pets! Lol. For one I'm going to #Paris! I know I am #workouthard.! 2015 is about to be a big year #LAfitness #newyearsresolution #earlystartÛ_ http://t.co/JaePAgdxQrNew Year, new me. I need to do some research!Have you thought about your #NewYearsResolution yet? Maybe. \"My #NewYearsResolution will be to document my children's lives more!! Well, this time I'm only going to dread one day at a time\" #NewYearsResolutionWhat are your #NewYearsResolution? #dogsThis year I decided to make a realistic #NewYearsResolution. #2015 _Ù_ä I have ALOT to think about. #HashtagOfTheWeek #NewYearsResolutionWhat did we do today?!! I got LAZY. #oopsNew Year's Resolution? \"@LifeCheating: http://t.co/VQ1Mx3XLVM\" I am going to try doing this! More design. #newyearsresolution http://t.co/IV76z1MhDfGlad to have my folks with us. Free post:  http://t.co/Bqo4JGnDBm\n",
            "#LiveLife\n",
            "#NewYearsResolution\n",
            "#stressfreeOne of my #NewYearsResolution 's is to tweet more. #illdobetter#NewYearsResolution \n",
            "1. Get fit \n",
            "3. #Û_{ #NewYearsResolution } #Draw more, #write more, &amp; submit it to more places &amp; people. Way to go! #beautifulmindMy new years resolution is to eat more fresh fruit, but only in the form of Sangria's. ICYMI: my story on the #NewYearsResolution 2 b more #healthy. I Just gotta make sure all of my favorties are there @ onceMy #NewYearsResolution is to stay healthy... What will your #NewYearsResolution be for 2015? #newbierunners #running #NewYearsResolutionTo be kind, always. #newyearsresolution #healthy http://t.co/q9o818L3efWorking on healthy smoothies using our #Hurom #slowjuicer. #newyearsresolution #healthy http://t.co/S20phrfgyc#NewYearsResolution: get a buzzfeed to honor my uncle Scott's wishes#NewYearsResolution 10: Make 2015 the year that finally sees a reversal of growing wage gap and high jobless rate among #veteransMy #NewYearsResolution is to proof read all my stuff before I hit send. And the new #plexus challenge! 1/15 @ 2pm tweetup on #entrepreneurship Tweet w us: http://t.co/bFZm7wF1R7Same #NewYearsResolution as every year. Naw... Naw... This helped. ? Just wish I could speak Finnish.... New #NewYearsResolution?! true#Resolution #2014 complete. #newyearsresolution#NewYearsResolution to get luna to stan 5sosPlearn pthe prules pof pthe \"psilent p\". _ÙÔÕ #NewYearsResolutionMy #NewYearsResolution: No #chickenlegs! #newyearsresolution? #RandomThoughts (#NewYearsResolution?) _Ù_äsome things are just meant to be let go of... #newyearsresolution http://t.co/eGsUd4aHCzThink I may try this. Ruins my rep.\n",
            "\n",
            "#NewYearsResolution \n",
            "#GrumpKingThe only resolution worth making? =)#NewYearsResolution - Live your life the way you WANT to, not the way others EXPECT you to! None of this eating healthy rubbish.#NewYearsResolution Save money on health insurance! #startuplifeWho has a #NewYearsResolution? What #stories will you tell this year? Goal 5: Try #yoga. Can't wait for 2015, hoping to do some big things!#NewYearsResolution #grinding #art http://t.co/qEinbxz5Q1my new year's #resolution is #1080p. #seeyaLESS RUB MORE TUG #NewYearsResolutionI just want to win. ^_^ \n",
            "\n",
            "My #NewYearsResolution will be the REAL test. K cool. !! #NYE2015 #NewYearsEve #NewYearsResolutionMy #NewYearsResolution: Including, checking out #AgeOfUltron and #TerminatorGenisys.\n"
          ]
        }
      ]
    },
    {
      "cell_type": "code",
      "source": [
        "print(len(text))\n",
        "print(len(result))"
      ],
      "metadata": {
        "colab": {
          "base_uri": "https://localhost:8080/"
        },
        "id": "W6bielizzOV8",
        "outputId": "c8ba0228-b12a-42c1-d598-c4fec8a741ce"
      },
      "execution_count": 60,
      "outputs": [
        {
          "output_type": "stream",
          "name": "stdout",
          "text": [
            "471086\n",
            "39063\n"
          ]
        }
      ]
    },
    {
      "cell_type": "code",
      "source": [
        "from docx import Document\n",
        "\n",
        "resolutions = [line.strip() for line in result.split('\\n') if line.strip()]\n",
        "\n",
        "doc = Document()\n",
        "\n",
        "doc.add_heading('New Year Resolutions', level=1)\n",
        "for resolution in resolutions:\n",
        "    doc.add_paragraph(resolution)\n",
        "\n",
        "doc.save('resolutions.docx')\n"
      ],
      "metadata": {
        "id": "m_xFfAaC0xAK"
      },
      "execution_count": 72,
      "outputs": []
    },
    {
      "cell_type": "code",
      "source": [
        "!pip install python-docx\n"
      ],
      "metadata": {
        "colab": {
          "base_uri": "https://localhost:8080/"
        },
        "id": "qSikqVts1cyn",
        "outputId": "f321528e-2be8-4d14-cefe-865949725f06"
      },
      "execution_count": 66,
      "outputs": [
        {
          "output_type": "stream",
          "name": "stdout",
          "text": [
            "Collecting python-docx\n",
            "  Downloading python_docx-1.1.0-py3-none-any.whl (239 kB)\n",
            "\u001b[?25l     \u001b[90m━━━━━━━━━━━━━━━━━━━━━━━━━━━━━━━━━━━━━━━━\u001b[0m \u001b[32m0.0/239.6 kB\u001b[0m \u001b[31m?\u001b[0m eta \u001b[36m-:--:--\u001b[0m\r\u001b[2K     \u001b[91m━━━━━━━━━━━\u001b[0m\u001b[91m╸\u001b[0m\u001b[90m━━━━━━━━━━━━━━━━━━━━━━━━━━━━\u001b[0m \u001b[32m71.7/239.6 kB\u001b[0m \u001b[31m1.9 MB/s\u001b[0m eta \u001b[36m0:00:01\u001b[0m\r\u001b[2K     \u001b[90m━━━━━━━━━━━━━━━━━━━━━━━━━━━━━━━━━━━━━━━━\u001b[0m \u001b[32m239.6/239.6 kB\u001b[0m \u001b[31m4.1 MB/s\u001b[0m eta \u001b[36m0:00:00\u001b[0m\n",
            "\u001b[?25hRequirement already satisfied: lxml>=3.1.0 in /usr/local/lib/python3.10/dist-packages (from python-docx) (4.9.3)\n",
            "Requirement already satisfied: typing-extensions in /usr/local/lib/python3.10/dist-packages (from python-docx) (4.5.0)\n",
            "Installing collected packages: python-docx\n",
            "Successfully installed python-docx-1.1.0\n"
          ]
        }
      ]
    },
    {
      "cell_type": "code",
      "source": [],
      "metadata": {
        "id": "P5qq-_k61hAk"
      },
      "execution_count": null,
      "outputs": []
    }
  ]
}